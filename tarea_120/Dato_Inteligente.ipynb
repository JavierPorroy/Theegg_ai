{
 "cells": [
  {
   "cell_type": "code",
   "execution_count": 1,
   "metadata": {
    "id": "CSciM9y_iSbm"
   },
   "outputs": [],
   "source": [
    "import pandas as pd\n",
    "import numpy as np"
   ]
  },
  {
   "cell_type": "code",
   "execution_count": 2,
   "metadata": {
    "id": "rMjTJx8qiVh5"
   },
   "outputs": [],
   "source": [
    "path = 'poblacion_global_2020.csv'"
   ]
  },
  {
   "cell_type": "markdown",
   "metadata": {
    "id": "4eh5I2Hl47dd"
   },
   "source": [
    "# Ejercicio\n",
    "\n",
    "Examina detenidamente el siguiente dataset y responde las siguientes preguntas:\n",
    "\n",
    "* ¿Porqué cumple con las condiciones de Tidy Data?\n",
    "Porque cumple la condicion de que cada fila en una tabla es una observación y cada columna es una característica de dicha información.\n",
    "* ¿Cuál es el data point principal y cual es la meta data?\n",
    "data point: la columna País\n",
    "meta data: las columnas Poblacion (2020), Densidad, Territrio(Km2), Tasa Migración, Tasa Fertlidad, Edad Promedio, %Población Urbana.\n",
    "* Si quisieramos saber más sobre los niveles educativos globales ¿Qué otras características necesitariamos para este data set?\n",
    "% de personas con estudios basicos, % de personas con estudios medios o FPs y % de personas con estudios universitarios y si se quisera profundiar mas en detalle, saber cuantos de ellos son hombres y cuantos son mujeres.\n",
    "* ¿Qué tipo de análisis harías con este data set?\n",
    "% de la población que no acaba sus estudios basicos, % de la población que no tiene acceso o recursos a la educacion primaria o universitaria, como incide la poblacion o la densidad en la posibilidad de acceder a estudios, como incide la educacion o el nivel de estudios con la tasa de fertiliad, que relacion tiene la educacion con la migracion de las personas teniendo en cuenta las posibilidades que puede tener en ese lugar para desarrollar lo estudiado..."
   ]
  },
  {
   "cell_type": "code",
   "execution_count": 3,
   "metadata": {
    "colab": {
     "base_uri": "https://localhost:8080/",
     "height": 206
    },
    "id": "zIVDU1LhlGlf",
    "outputId": "d5d8dc73-d7c1-436a-9ac6-8550cbbedb6f",
    "scrolled": true
   },
   "outputs": [
    {
     "data": {
      "text/html": [
       "<div>\n",
       "<style scoped>\n",
       "    .dataframe tbody tr th:only-of-type {\n",
       "        vertical-align: middle;\n",
       "    }\n",
       "\n",
       "    .dataframe tbody tr th {\n",
       "        vertical-align: top;\n",
       "    }\n",
       "\n",
       "    .dataframe thead th {\n",
       "        text-align: right;\n",
       "    }\n",
       "</style>\n",
       "<table border=\"1\" class=\"dataframe\">\n",
       "  <thead>\n",
       "    <tr style=\"text-align: right;\">\n",
       "      <th></th>\n",
       "      <th>Pais</th>\n",
       "      <th>Poblacion (2020)</th>\n",
       "      <th>Densidad</th>\n",
       "      <th>Territorio (Km²)</th>\n",
       "      <th>Tasa Migracion</th>\n",
       "      <th>Tasa Fertilidad</th>\n",
       "      <th>Edad Promedio</th>\n",
       "      <th>% Poblacion Urbaba</th>\n",
       "      <th>Continente</th>\n",
       "    </tr>\n",
       "  </thead>\n",
       "  <tbody>\n",
       "    <tr>\n",
       "      <th>0</th>\n",
       "      <td>Afganistán</td>\n",
       "      <td>39074280</td>\n",
       "      <td>60</td>\n",
       "      <td>652860</td>\n",
       "      <td>-62920.0</td>\n",
       "      <td>4.6</td>\n",
       "      <td>18</td>\n",
       "      <td>25 %</td>\n",
       "      <td>Asia</td>\n",
       "    </tr>\n",
       "    <tr>\n",
       "      <th>1</th>\n",
       "      <td>Albania</td>\n",
       "      <td>2877239</td>\n",
       "      <td>105</td>\n",
       "      <td>27400</td>\n",
       "      <td>-14000.0</td>\n",
       "      <td>1.6</td>\n",
       "      <td>36</td>\n",
       "      <td>63 %</td>\n",
       "      <td>Europa</td>\n",
       "    </tr>\n",
       "    <tr>\n",
       "      <th>2</th>\n",
       "      <td>Alemania</td>\n",
       "      <td>83830972</td>\n",
       "      <td>240</td>\n",
       "      <td>348560</td>\n",
       "      <td>543822.0</td>\n",
       "      <td>1.6</td>\n",
       "      <td>46</td>\n",
       "      <td>76 %</td>\n",
       "      <td>Europa</td>\n",
       "    </tr>\n",
       "    <tr>\n",
       "      <th>3</th>\n",
       "      <td>Andorra</td>\n",
       "      <td>77287</td>\n",
       "      <td>164</td>\n",
       "      <td>470</td>\n",
       "      <td>NaN</td>\n",
       "      <td>N.A.</td>\n",
       "      <td>N.A.</td>\n",
       "      <td>88 %</td>\n",
       "      <td>Europa</td>\n",
       "    </tr>\n",
       "    <tr>\n",
       "      <th>4</th>\n",
       "      <td>Angola</td>\n",
       "      <td>33032075</td>\n",
       "      <td>26</td>\n",
       "      <td>1246700</td>\n",
       "      <td>6413.0</td>\n",
       "      <td>5.6</td>\n",
       "      <td>17</td>\n",
       "      <td>67 %</td>\n",
       "      <td>Africa</td>\n",
       "    </tr>\n",
       "    <tr>\n",
       "      <th>5</th>\n",
       "      <td>Antigua y Barbuda</td>\n",
       "      <td>98069</td>\n",
       "      <td>223</td>\n",
       "      <td>440</td>\n",
       "      <td>0.0</td>\n",
       "      <td>2</td>\n",
       "      <td>34</td>\n",
       "      <td>26 %</td>\n",
       "      <td>America</td>\n",
       "    </tr>\n",
       "    <tr>\n",
       "      <th>6</th>\n",
       "      <td>Arabia Saudita</td>\n",
       "      <td>34905942</td>\n",
       "      <td>16</td>\n",
       "      <td>2149690</td>\n",
       "      <td>134979.0</td>\n",
       "      <td>2.3</td>\n",
       "      <td>32</td>\n",
       "      <td>84 %</td>\n",
       "      <td>Asia</td>\n",
       "    </tr>\n",
       "    <tr>\n",
       "      <th>7</th>\n",
       "      <td>Argelia</td>\n",
       "      <td>43984569</td>\n",
       "      <td>18</td>\n",
       "      <td>2381740</td>\n",
       "      <td>-10000.0</td>\n",
       "      <td>3.1</td>\n",
       "      <td>29</td>\n",
       "      <td>73 %</td>\n",
       "      <td>Africa</td>\n",
       "    </tr>\n",
       "    <tr>\n",
       "      <th>8</th>\n",
       "      <td>Argentina</td>\n",
       "      <td>45267449</td>\n",
       "      <td>17</td>\n",
       "      <td>2736690</td>\n",
       "      <td>4800.0</td>\n",
       "      <td>2.3</td>\n",
       "      <td>32</td>\n",
       "      <td>93 %</td>\n",
       "      <td>America</td>\n",
       "    </tr>\n",
       "    <tr>\n",
       "      <th>9</th>\n",
       "      <td>Armenia</td>\n",
       "      <td>2964219</td>\n",
       "      <td>104</td>\n",
       "      <td>28470</td>\n",
       "      <td>-4998.0</td>\n",
       "      <td>1.8</td>\n",
       "      <td>35</td>\n",
       "      <td>63 %</td>\n",
       "      <td>Asia</td>\n",
       "    </tr>\n",
       "  </tbody>\n",
       "</table>\n",
       "</div>"
      ],
      "text/plain": [
       "                Pais  Poblacion (2020)  Densidad  Territorio (Km²)  \\\n",
       "0         Afganistán          39074280        60            652860   \n",
       "1            Albania           2877239       105             27400   \n",
       "2           Alemania          83830972       240            348560   \n",
       "3            Andorra             77287       164               470   \n",
       "4             Angola          33032075        26           1246700   \n",
       "5  Antigua y Barbuda             98069       223               440   \n",
       "6     Arabia Saudita          34905942        16           2149690   \n",
       "7            Argelia          43984569        18           2381740   \n",
       "8          Argentina          45267449        17           2736690   \n",
       "9            Armenia           2964219       104             28470   \n",
       "\n",
       "   Tasa Migracion Tasa Fertilidad Edad Promedio % Poblacion Urbaba Continente  \n",
       "0        -62920.0             4.6            18               25 %       Asia  \n",
       "1        -14000.0             1.6            36               63 %     Europa  \n",
       "2        543822.0             1.6            46               76 %     Europa  \n",
       "3             NaN            N.A.          N.A.               88 %     Europa  \n",
       "4          6413.0             5.6            17               67 %     Africa  \n",
       "5             0.0               2            34               26 %    America  \n",
       "6        134979.0             2.3            32               84 %       Asia  \n",
       "7        -10000.0             3.1            29               73 %     Africa  \n",
       "8          4800.0             2.3            32               93 %    America  \n",
       "9         -4998.0             1.8            35               63 %       Asia  "
      ]
     },
     "execution_count": 3,
     "metadata": {},
     "output_type": "execute_result"
    }
   ],
   "source": [
    "df = pd.read_csv(path)\n",
    "\n",
    "df.head(10)"
   ]
  },
  {
   "cell_type": "markdown",
   "metadata": {
    "id": "icPpmAcd5BCY"
   },
   "source": [
    "# Ejercicios:\n",
    "\n",
    "Manipula el dataset, de manera que respondas las siguientes preguntas:\n",
    "\n",
    "1. ¿Cual es el promedio de Tasa de Fertilidad global?\n",
    "2. ¿Que país tiene la Edad Promedio más alta y cual la más baja?\n",
    "3. Agrupa los países por continente y obtén la mediana de la población urbana\n",
    "4. ¿Qué otro de cálculo de interés (usando estas variables) crees pertinente para comparar la calidad de vida a nivel global? ¿Porqué?"
   ]
  },
  {
   "cell_type": "markdown",
   "metadata": {},
   "source": [
    "1. ¿Cual es el promedio de Tasa de Fertilidad global?"
   ]
  },
  {
   "cell_type": "code",
   "execution_count": 4,
   "metadata": {},
   "outputs": [
    {
     "data": {
      "text/plain": [
       "Pais                   object\n",
       "Poblacion (2020)        int64\n",
       "Densidad                int64\n",
       "Territorio (Km²)        int64\n",
       "Tasa Migracion        float64\n",
       "Tasa Fertilidad        object\n",
       "Edad Promedio          object\n",
       "% Poblacion Urbaba     object\n",
       "Continente             object\n",
       "dtype: object"
      ]
     },
     "execution_count": 4,
     "metadata": {},
     "output_type": "execute_result"
    }
   ],
   "source": [
    "df.dtypes"
   ]
  },
  {
   "cell_type": "code",
   "execution_count": 5,
   "metadata": {},
   "outputs": [],
   "source": [
    "df2 = df[df['Tasa Fertilidad'] != 'N.A.']"
   ]
  },
  {
   "cell_type": "code",
   "execution_count": 6,
   "metadata": {},
   "outputs": [
    {
     "data": {
      "text/plain": [
       "2.693034825870647"
      ]
     },
     "execution_count": 6,
     "metadata": {},
     "output_type": "execute_result"
    }
   ],
   "source": [
    "df2['Tasa Fertilidad'].astype('float64').mean()"
   ]
  },
  {
   "cell_type": "markdown",
   "metadata": {},
   "source": [
    "2.¿Que país tiene la Edad Promedio más alta y cual la más baja?"
   ]
  },
  {
   "cell_type": "code",
   "execution_count": 7,
   "metadata": {},
   "outputs": [
    {
     "data": {
      "text/plain": [
       "13"
      ]
     },
     "execution_count": 7,
     "metadata": {},
     "output_type": "execute_result"
    }
   ],
   "source": [
    "df['Edad Promedio'].value_counts()['N.A.']"
   ]
  },
  {
   "cell_type": "code",
   "execution_count": 8,
   "metadata": {},
   "outputs": [],
   "source": [
    "df3 = df[df['Edad Promedio'] != 'N.A.']"
   ]
  },
  {
   "cell_type": "code",
   "execution_count": 9,
   "metadata": {
    "scrolled": true
   },
   "outputs": [
    {
     "data": {
      "text/html": [
       "<div>\n",
       "<style scoped>\n",
       "    .dataframe tbody tr th:only-of-type {\n",
       "        vertical-align: middle;\n",
       "    }\n",
       "\n",
       "    .dataframe tbody tr th {\n",
       "        vertical-align: top;\n",
       "    }\n",
       "\n",
       "    .dataframe thead th {\n",
       "        text-align: right;\n",
       "    }\n",
       "</style>\n",
       "<table border=\"1\" class=\"dataframe\">\n",
       "  <thead>\n",
       "    <tr style=\"text-align: right;\">\n",
       "      <th></th>\n",
       "      <th>Pais</th>\n",
       "      <th>Poblacion (2020)</th>\n",
       "      <th>Densidad</th>\n",
       "      <th>Territorio (Km²)</th>\n",
       "      <th>Tasa Migracion</th>\n",
       "      <th>Tasa Fertilidad</th>\n",
       "      <th>Edad Promedio</th>\n",
       "      <th>% Poblacion Urbaba</th>\n",
       "      <th>Continente</th>\n",
       "    </tr>\n",
       "  </thead>\n",
       "  <tbody>\n",
       "    <tr>\n",
       "      <th>0</th>\n",
       "      <td>Afganistán</td>\n",
       "      <td>39074280</td>\n",
       "      <td>60</td>\n",
       "      <td>652860</td>\n",
       "      <td>-62920.0</td>\n",
       "      <td>4.6</td>\n",
       "      <td>18</td>\n",
       "      <td>25 %</td>\n",
       "      <td>Asia</td>\n",
       "    </tr>\n",
       "    <tr>\n",
       "      <th>1</th>\n",
       "      <td>Albania</td>\n",
       "      <td>2877239</td>\n",
       "      <td>105</td>\n",
       "      <td>27400</td>\n",
       "      <td>-14000.0</td>\n",
       "      <td>1.6</td>\n",
       "      <td>36</td>\n",
       "      <td>63 %</td>\n",
       "      <td>Europa</td>\n",
       "    </tr>\n",
       "    <tr>\n",
       "      <th>2</th>\n",
       "      <td>Alemania</td>\n",
       "      <td>83830972</td>\n",
       "      <td>240</td>\n",
       "      <td>348560</td>\n",
       "      <td>543822.0</td>\n",
       "      <td>1.6</td>\n",
       "      <td>46</td>\n",
       "      <td>76 %</td>\n",
       "      <td>Europa</td>\n",
       "    </tr>\n",
       "    <tr>\n",
       "      <th>4</th>\n",
       "      <td>Angola</td>\n",
       "      <td>33032075</td>\n",
       "      <td>26</td>\n",
       "      <td>1246700</td>\n",
       "      <td>6413.0</td>\n",
       "      <td>5.6</td>\n",
       "      <td>17</td>\n",
       "      <td>67 %</td>\n",
       "      <td>Africa</td>\n",
       "    </tr>\n",
       "    <tr>\n",
       "      <th>5</th>\n",
       "      <td>Antigua y Barbuda</td>\n",
       "      <td>98069</td>\n",
       "      <td>223</td>\n",
       "      <td>440</td>\n",
       "      <td>0.0</td>\n",
       "      <td>2</td>\n",
       "      <td>34</td>\n",
       "      <td>26 %</td>\n",
       "      <td>America</td>\n",
       "    </tr>\n",
       "  </tbody>\n",
       "</table>\n",
       "</div>"
      ],
      "text/plain": [
       "                Pais  Poblacion (2020)  Densidad  Territorio (Km²)  \\\n",
       "0         Afganistán          39074280        60            652860   \n",
       "1            Albania           2877239       105             27400   \n",
       "2           Alemania          83830972       240            348560   \n",
       "4             Angola          33032075        26           1246700   \n",
       "5  Antigua y Barbuda             98069       223               440   \n",
       "\n",
       "   Tasa Migracion Tasa Fertilidad Edad Promedio % Poblacion Urbaba Continente  \n",
       "0        -62920.0             4.6            18               25 %       Asia  \n",
       "1        -14000.0             1.6            36               63 %     Europa  \n",
       "2        543822.0             1.6            46               76 %     Europa  \n",
       "4          6413.0             5.6            17               67 %     Africa  \n",
       "5             0.0               2            34               26 %    America  "
      ]
     },
     "execution_count": 9,
     "metadata": {},
     "output_type": "execute_result"
    }
   ],
   "source": [
    "df3.head()"
   ]
  },
  {
   "cell_type": "code",
   "execution_count": 10,
   "metadata": {},
   "outputs": [
    {
     "data": {
      "text/plain": [
       "30.606965174129353"
      ]
     },
     "execution_count": 10,
     "metadata": {},
     "output_type": "execute_result"
    }
   ],
   "source": [
    "df3['Edad Promedio'].astype('int').mean()"
   ]
  },
  {
   "cell_type": "code",
   "execution_count": 11,
   "metadata": {},
   "outputs": [
    {
     "data": {
      "text/plain": [
       "48"
      ]
     },
     "execution_count": 11,
     "metadata": {},
     "output_type": "execute_result"
    }
   ],
   "source": [
    "df3['Edad Promedio'].astype('int').max()"
   ]
  },
  {
   "cell_type": "code",
   "execution_count": 12,
   "metadata": {},
   "outputs": [
    {
     "data": {
      "text/html": [
       "<div>\n",
       "<style scoped>\n",
       "    .dataframe tbody tr th:only-of-type {\n",
       "        vertical-align: middle;\n",
       "    }\n",
       "\n",
       "    .dataframe tbody tr th {\n",
       "        vertical-align: top;\n",
       "    }\n",
       "\n",
       "    .dataframe thead th {\n",
       "        text-align: right;\n",
       "    }\n",
       "</style>\n",
       "<table border=\"1\" class=\"dataframe\">\n",
       "  <thead>\n",
       "    <tr style=\"text-align: right;\">\n",
       "      <th></th>\n",
       "      <th>Pais</th>\n",
       "      <th>Poblacion (2020)</th>\n",
       "      <th>Densidad</th>\n",
       "      <th>Territorio (Km²)</th>\n",
       "      <th>Tasa Migracion</th>\n",
       "      <th>Tasa Fertilidad</th>\n",
       "      <th>Edad Promedio</th>\n",
       "      <th>% Poblacion Urbaba</th>\n",
       "      <th>Continente</th>\n",
       "    </tr>\n",
       "  </thead>\n",
       "  <tbody>\n",
       "    <tr>\n",
       "      <th>106</th>\n",
       "      <td>Japan</td>\n",
       "      <td>126407422</td>\n",
       "      <td>347</td>\n",
       "      <td>364555</td>\n",
       "      <td>71560.0</td>\n",
       "      <td>1.4</td>\n",
       "      <td>48</td>\n",
       "      <td>92 %</td>\n",
       "      <td>Asia</td>\n",
       "    </tr>\n",
       "  </tbody>\n",
       "</table>\n",
       "</div>"
      ],
      "text/plain": [
       "      Pais  Poblacion (2020)  Densidad  Territorio (Km²)  Tasa Migracion  \\\n",
       "106  Japan         126407422       347            364555         71560.0   \n",
       "\n",
       "    Tasa Fertilidad Edad Promedio % Poblacion Urbaba Continente  \n",
       "106             1.4            48               92 %       Asia  "
      ]
     },
     "execution_count": 12,
     "metadata": {},
     "output_type": "execute_result"
    }
   ],
   "source": [
    "df3[df3['Edad Promedio'].astype('int') == 48]"
   ]
  },
  {
   "cell_type": "code",
   "execution_count": 13,
   "metadata": {},
   "outputs": [
    {
     "data": {
      "text/plain": [
       "15"
      ]
     },
     "execution_count": 13,
     "metadata": {},
     "output_type": "execute_result"
    }
   ],
   "source": [
    "df3['Edad Promedio'].astype('int').min()"
   ]
  },
  {
   "cell_type": "code",
   "execution_count": 14,
   "metadata": {
    "scrolled": true
   },
   "outputs": [
    {
     "data": {
      "text/html": [
       "<div>\n",
       "<style scoped>\n",
       "    .dataframe tbody tr th:only-of-type {\n",
       "        vertical-align: middle;\n",
       "    }\n",
       "\n",
       "    .dataframe tbody tr th {\n",
       "        vertical-align: top;\n",
       "    }\n",
       "\n",
       "    .dataframe thead th {\n",
       "        text-align: right;\n",
       "    }\n",
       "</style>\n",
       "<table border=\"1\" class=\"dataframe\">\n",
       "  <thead>\n",
       "    <tr style=\"text-align: right;\">\n",
       "      <th></th>\n",
       "      <th>Pais</th>\n",
       "      <th>Poblacion (2020)</th>\n",
       "      <th>Densidad</th>\n",
       "      <th>Territorio (Km²)</th>\n",
       "      <th>Tasa Migracion</th>\n",
       "      <th>Tasa Fertilidad</th>\n",
       "      <th>Edad Promedio</th>\n",
       "      <th>% Poblacion Urbaba</th>\n",
       "      <th>Continente</th>\n",
       "    </tr>\n",
       "  </thead>\n",
       "  <tbody>\n",
       "    <tr>\n",
       "      <th>145</th>\n",
       "      <td>Niger</td>\n",
       "      <td>24346468</td>\n",
       "      <td>19</td>\n",
       "      <td>1266700</td>\n",
       "      <td>4000.0</td>\n",
       "      <td>7</td>\n",
       "      <td>15</td>\n",
       "      <td>17 %</td>\n",
       "      <td>Africa</td>\n",
       "    </tr>\n",
       "  </tbody>\n",
       "</table>\n",
       "</div>"
      ],
      "text/plain": [
       "      Pais  Poblacion (2020)  Densidad  Territorio (Km²)  Tasa Migracion  \\\n",
       "145  Niger          24346468        19           1266700          4000.0   \n",
       "\n",
       "    Tasa Fertilidad Edad Promedio % Poblacion Urbaba Continente  \n",
       "145               7            15               17 %     Africa  "
      ]
     },
     "execution_count": 14,
     "metadata": {},
     "output_type": "execute_result"
    }
   ],
   "source": [
    "df3[df3['Edad Promedio'].astype('int') == 15]"
   ]
  },
  {
   "cell_type": "markdown",
   "metadata": {},
   "source": [
    "3. Agrupa los países por continente y obtén la mediana de la población urbana"
   ]
  },
  {
   "cell_type": "code",
   "execution_count": 15,
   "metadata": {
    "scrolled": true
   },
   "outputs": [],
   "source": [
    "df4 = df3.groupby(['Continente', 'Pais']).sum()\n"
   ]
  },
  {
   "cell_type": "code",
   "execution_count": 16,
   "metadata": {},
   "outputs": [
    {
     "data": {
      "text/html": [
       "<div>\n",
       "<style scoped>\n",
       "    .dataframe tbody tr th:only-of-type {\n",
       "        vertical-align: middle;\n",
       "    }\n",
       "\n",
       "    .dataframe tbody tr th {\n",
       "        vertical-align: top;\n",
       "    }\n",
       "\n",
       "    .dataframe thead th {\n",
       "        text-align: right;\n",
       "    }\n",
       "</style>\n",
       "<table border=\"1\" class=\"dataframe\">\n",
       "  <thead>\n",
       "    <tr style=\"text-align: right;\">\n",
       "      <th></th>\n",
       "      <th></th>\n",
       "      <th>Poblacion (2020)</th>\n",
       "      <th>Densidad</th>\n",
       "      <th>Territorio (Km²)</th>\n",
       "      <th>Tasa Migracion</th>\n",
       "    </tr>\n",
       "    <tr>\n",
       "      <th>Continente</th>\n",
       "      <th>Pais</th>\n",
       "      <th></th>\n",
       "      <th></th>\n",
       "      <th></th>\n",
       "      <th></th>\n",
       "    </tr>\n",
       "  </thead>\n",
       "  <tbody>\n",
       "    <tr>\n",
       "      <th rowspan=\"5\" valign=\"top\">Africa</th>\n",
       "      <th>Angola</th>\n",
       "      <td>33032075</td>\n",
       "      <td>26</td>\n",
       "      <td>1246700</td>\n",
       "      <td>6413.0</td>\n",
       "    </tr>\n",
       "    <tr>\n",
       "      <th>Argelia</th>\n",
       "      <td>43984569</td>\n",
       "      <td>18</td>\n",
       "      <td>2381740</td>\n",
       "      <td>-10000.0</td>\n",
       "    </tr>\n",
       "    <tr>\n",
       "      <th>Benin</th>\n",
       "      <td>12175480</td>\n",
       "      <td>108</td>\n",
       "      <td>112760</td>\n",
       "      <td>-2000.0</td>\n",
       "    </tr>\n",
       "    <tr>\n",
       "      <th>Botswana</th>\n",
       "      <td>2359585</td>\n",
       "      <td>4</td>\n",
       "      <td>566730</td>\n",
       "      <td>3000.0</td>\n",
       "    </tr>\n",
       "    <tr>\n",
       "      <th>Burkina Faso</th>\n",
       "      <td>20997293</td>\n",
       "      <td>76</td>\n",
       "      <td>273600</td>\n",
       "      <td>-25000.0</td>\n",
       "    </tr>\n",
       "  </tbody>\n",
       "</table>\n",
       "</div>"
      ],
      "text/plain": [
       "                         Poblacion (2020)  Densidad  Territorio (Km²)  \\\n",
       "Continente Pais                                                         \n",
       "Africa     Angola                33032075        26           1246700   \n",
       "           Argelia               43984569        18           2381740   \n",
       "           Benin                 12175480       108            112760   \n",
       "           Botswana               2359585         4            566730   \n",
       "           Burkina Faso          20997293        76            273600   \n",
       "\n",
       "                         Tasa Migracion  \n",
       "Continente Pais                          \n",
       "Africa     Angola                6413.0  \n",
       "           Argelia             -10000.0  \n",
       "           Benin                -2000.0  \n",
       "           Botswana              3000.0  \n",
       "           Burkina Faso        -25000.0  "
      ]
     },
     "execution_count": 16,
     "metadata": {},
     "output_type": "execute_result"
    }
   ],
   "source": [
    "df4.head()"
   ]
  },
  {
   "cell_type": "code",
   "execution_count": 17,
   "metadata": {},
   "outputs": [],
   "source": [
    "df3 = df3[df3[\"% Poblacion Urbaba\"] != 'N.A.']"
   ]
  },
  {
   "cell_type": "code",
   "execution_count": 18,
   "metadata": {},
   "outputs": [],
   "source": [
    "df3[\"% Poblacion Urbaba\"] = df3[\"% Poblacion Urbaba\"].apply(lambda x: float(x.split()[0].replace('%', '')))"
   ]
  },
  {
   "cell_type": "code",
   "execution_count": 19,
   "metadata": {},
   "outputs": [
    {
     "data": {
      "text/plain": [
       "59.5"
      ]
     },
     "execution_count": 19,
     "metadata": {},
     "output_type": "execute_result"
    }
   ],
   "source": [
    "df3[\"% Poblacion Urbaba\"].median() "
   ]
  },
  {
   "cell_type": "markdown",
   "metadata": {},
   "source": [
    "4.¿Qué otro de cálculo de interés (usando estas variables) crees pertinente para comparar la calidad de vida a nivel global? ¿Porqué?"
   ]
  },
  {
   "cell_type": "markdown",
   "metadata": {},
   "source": [
    "La tasa de Migracion me parece pertinente ya que describre las posibilidad de ese pais y de las oportunidades \n",
    "que la gente busca fuera de el. Pudiendo hacer una comparacion entre continentes saber que continentes son los que mas migracion tienen."
   ]
  },
  {
   "cell_type": "code",
   "execution_count": 20,
   "metadata": {},
   "outputs": [],
   "source": [
    "df5 = df3.groupby(['Continente']).mean()"
   ]
  },
  {
   "cell_type": "code",
   "execution_count": 21,
   "metadata": {},
   "outputs": [
    {
     "data": {
      "text/html": [
       "<div>\n",
       "<style scoped>\n",
       "    .dataframe tbody tr th:only-of-type {\n",
       "        vertical-align: middle;\n",
       "    }\n",
       "\n",
       "    .dataframe tbody tr th {\n",
       "        vertical-align: top;\n",
       "    }\n",
       "\n",
       "    .dataframe thead th {\n",
       "        text-align: right;\n",
       "    }\n",
       "</style>\n",
       "<table border=\"1\" class=\"dataframe\">\n",
       "  <thead>\n",
       "    <tr style=\"text-align: right;\">\n",
       "      <th></th>\n",
       "      <th></th>\n",
       "      <th>Poblacion (2020)</th>\n",
       "      <th>Densidad</th>\n",
       "      <th>Territorio (Km²)</th>\n",
       "      <th>% Poblacion Urbaba</th>\n",
       "    </tr>\n",
       "    <tr>\n",
       "      <th>Continente</th>\n",
       "      <th>Tasa Migracion</th>\n",
       "      <th></th>\n",
       "      <th></th>\n",
       "      <th></th>\n",
       "      <th></th>\n",
       "    </tr>\n",
       "  </thead>\n",
       "  <tbody>\n",
       "    <tr>\n",
       "      <th>Africa</th>\n",
       "      <th>-7979.824561</th>\n",
       "      <td>2.338582e+07</td>\n",
       "      <td>114.175439</td>\n",
       "      <td>5.197218e+05</td>\n",
       "      <td>49.385965</td>\n",
       "    </tr>\n",
       "    <tr>\n",
       "      <th>America</th>\n",
       "      <th>39522.750000</th>\n",
       "      <td>2.741476e+07</td>\n",
       "      <td>161.916667</td>\n",
       "      <td>1.039488e+06</td>\n",
       "      <td>66.472222</td>\n",
       "    </tr>\n",
       "    <tr>\n",
       "      <th>Asia</th>\n",
       "      <th>-34470.541667</th>\n",
       "      <td>9.972116e+07</td>\n",
       "      <td>283.604167</td>\n",
       "      <td>9.884659e+05</td>\n",
       "      <td>58.375000</td>\n",
       "    </tr>\n",
       "    <tr>\n",
       "      <th>Europa</th>\n",
       "      <th>29606.525000</th>\n",
       "      <td>1.504617e+07</td>\n",
       "      <td>179.950000</td>\n",
       "      <td>1.395833e+05</td>\n",
       "      <td>71.425000</td>\n",
       "    </tr>\n",
       "    <tr>\n",
       "      <th>Oceania</th>\n",
       "      <th>13286.500000</th>\n",
       "      <td>3.535054e+06</td>\n",
       "      <td>77.250000</td>\n",
       "      <td>7.069783e+05</td>\n",
       "      <td>51.583333</td>\n",
       "    </tr>\n",
       "  </tbody>\n",
       "</table>\n",
       "</div>"
      ],
      "text/plain": [
       "                           Poblacion (2020)    Densidad  Territorio (Km²)  \\\n",
       "Continente Tasa Migracion                                                   \n",
       "Africa     -7979.824561        2.338582e+07  114.175439      5.197218e+05   \n",
       "America     39522.750000       2.741476e+07  161.916667      1.039488e+06   \n",
       "Asia       -34470.541667       9.972116e+07  283.604167      9.884659e+05   \n",
       "Europa      29606.525000       1.504617e+07  179.950000      1.395833e+05   \n",
       "Oceania     13286.500000       3.535054e+06   77.250000      7.069783e+05   \n",
       "\n",
       "                           % Poblacion Urbaba  \n",
       "Continente Tasa Migracion                      \n",
       "Africa     -7979.824561             49.385965  \n",
       "America     39522.750000            66.472222  \n",
       "Asia       -34470.541667            58.375000  \n",
       "Europa      29606.525000            71.425000  \n",
       "Oceania     13286.500000            51.583333  "
      ]
     },
     "execution_count": 21,
     "metadata": {},
     "output_type": "execute_result"
    }
   ],
   "source": [
    "df5.groupby(['Continente','Tasa Migracion']).mean()"
   ]
  }
 ],
 "metadata": {
  "colab": {
   "name": "DatoInteligente_Tarea.ipynb",
   "provenance": []
  },
  "kernelspec": {
   "display_name": "Python 3 (ipykernel)",
   "language": "python",
   "name": "python3"
  },
  "language_info": {
   "codemirror_mode": {
    "name": "ipython",
    "version": 3
   },
   "file_extension": ".py",
   "mimetype": "text/x-python",
   "name": "python",
   "nbconvert_exporter": "python",
   "pygments_lexer": "ipython3",
   "version": "3.10.1"
  }
 },
 "nbformat": 4,
 "nbformat_minor": 1
}
